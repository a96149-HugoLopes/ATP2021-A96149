{
 "cells": [
  {
   "cell_type": "code",
   "execution_count": null,
   "metadata": {},
   "outputs": [],
   "source": [
    "# -*- coding: utf-8 -*-\n",
    "\n",
    "def fosforos():\n",
    "    from random import randint\n",
    "    n=21\n",
    "    ordem=input(\"Pretende jogar em 1.º lugar (1) ou em 2.º lugar (2)? \")\n",
    "    if ordem==\"1\":\n",
    "        while n>1:\n",
    "            jogada=int(input(\"Quantos fósforos quer tirar? 1, 2, 3, 4? \"))\n",
    "            if jogada>=1 and jogada<=4:\n",
    "                n=n-jogada\n",
    "                c=5-jogada\n",
    "                n=n-c\n",
    "                print(\"O computador tirou\", c, \"fósforos.\")\n",
    "                print(\"Restam\", n, \"fósforos.\")\n",
    "\n",
    "\n",
    "    if ordem==\"2\":\n",
    "        c=randint(1,4)\n",
    "        print(\"O computador tirou\", c, \"fósforos.\")\n",
    "        n=n-c\n",
    "        print(\"Restam\", n, \"fósforos.\")\n",
    "        jogada=int(input(\"Quantos fósforos quer tirar? 1, 2, 3, 4? \"))\n",
    "        n=n-jogada\n",
    "        print(\"Restam\", n, \"fósforos.\")\n",
    "        while n>1:\n",
    "            if (jogada+c!=5):\n",
    "                c=5-((jogada+c)%5)\n",
    "                print(\"O computador tirou\", c, \"fósforos.\")\n",
    "                n=n-c\n",
    "                print(\"Restam\", n, \"fósforos.\")\n",
    "                   \n",
    "                while n>1:\n",
    "                       \n",
    "                    jogada=int(input(\"Quantos fósforos quer tirar? 1, 2, 3, 4? \"))\n",
    "                    n=n-jogada\n",
    "                    print(\"Restam\", n, \"fósforos.\")\n",
    "                    c=5-jogada\n",
    "                    n=n-c\n",
    "                    print(\"O computador tirou\", c, \"fósforos.\")\n",
    "                    print(\"Restam\", n, \"fósforos.\")\n",
    "                \n",
    "            else:\n",
    "                \n",
    "                c=randint(1,4)\n",
    "                print(\"O computador tirou\", c, \"fósforos.\")\n",
    "                n=n-c\n",
    "                print(\"Restam\", n, \"fósforos.\")\n",
    "                jogada=int(input(\"Quantos fósforos quer tirar? 1, 2, 3, 4? \"))\n",
    "                n=n-jogada\n",
    "                print(\"Restam\", n, \"fósforos.\")\n",
    "fosforos()"
   ]
  }
 ],
 "metadata": {
  "kernelspec": {
   "display_name": "Python 3",
   "language": "python",
   "name": "python3"
  },
  "language_info": {
   "codemirror_mode": {
    "name": "ipython",
    "version": 3
   },
   "file_extension": ".py",
   "mimetype": "text/x-python",
   "name": "python",
   "nbconvert_exporter": "python",
   "pygments_lexer": "ipython3",
   "version": "3.6.13"
  }
 },
 "nbformat": 4,
 "nbformat_minor": 2
}
