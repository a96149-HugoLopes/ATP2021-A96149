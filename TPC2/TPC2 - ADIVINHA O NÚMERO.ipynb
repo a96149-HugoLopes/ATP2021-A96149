{
 "cells": [
  {
   "cell_type": "markdown",
   "metadata": {},
   "source": [
    "# TPC 2"
   ]
  },
  {
   "cell_type": "markdown",
   "metadata": {},
   "source": [
    "## Jogo \"Adivinha o número\""
   ]
  },
  {
   "cell_type": "markdown",
   "metadata": {},
   "source": [
    "__Autor__: Hugo Miguel Moreira Lopes | __Supervisor__: José Caros Leite Ramalho (https://www.di.uminho.pt/~jcr/the-juris.php)| \n",
    "__Data de ínicio__: 2021/10/18 | __Data de fim__: 2021/10/20 | __UC__: Algoritmos e Técinicas de Programação | \n",
    "__Curso__: ENGBiom"
   ]
  },
  {
   "cell_type": "markdown",
   "metadata": {},
   "source": [
    "## Resumo"
   ]
  },
  {
   "cell_type": "markdown",
   "metadata": {},
   "source": [
    "Inicialmente, comecei por definir três variáveis, «n» correspondente ao valor mínimo do intervalo, «N» ao valor máximo e «c» o contador de tentativas efetuadas pelo computador. De seguida, defini as regras do jogo e os comandos a utilizar pelo utilizador, neste caso, «maior», «menor» e «igual».\n",
    "\n",
    "O meu raciocínio consistiu em quatro condições que englobam todas as situações possíveis. Caso o palpite do computador seja superior o «n» toma o valor da divisão inteira da soma de «n» com «N». Caso este seja inferior o «N» toma o valor da divisão inteira da soma de «n» com «N». Para cada uns dos palpites dados adicionamos ao «c» um, para, desta forma, sejam contabilizadas todas as tentativas. O computador usa num máximo 7 tentativas pois 2^7=128."
   ]
  },
  {
   "cell_type": "markdown",
   "metadata": {},
   "source": [
    "## Algoritmo"
   ]
  },
  {
   "cell_type": "code",
   "execution_count": null,
   "metadata": {},
   "outputs": [],
   "source": [
    "n=0\n",
    "N=100\n",
    "c=0\n",
    "print(\"Pense num número de 0 a 100.\")\n",
    "print(\"O computador vai adivinhar o seu número num máximo de 7 tentativas.\")\n",
    "print(\"Caso o palpite do computador não seja o correto utilize «maior» ou «menor». Caso este esteja correto, utilize «igual»\")\n",
    "\n",
    "def procura(n,N,c):\n",
    "    m=(n+N)//2\n",
    "    palpite=input(\"O número que pensou é \"+str(m)+ \"? \")\n",
    "    if palpite==\"igual\":\n",
    "         c=c+1\n",
    "         print(\"O computador adivinhou em\", c, \"tentativas.\")\n",
    "         print(\"Fim do jogo.\")\n",
    "    elif palpite==\"maior\":\n",
    "        n=m\n",
    "        c=c+1\n",
    "        procura(n,N,c)\n",
    "    elif palpite==\"menor\":\n",
    "        N=m\n",
    "        c=c+1\n",
    "        procura(n,N,c)\n",
    "    else:\n",
    "        print(\"Comando não aceite.\")\n",
    "    \n",
    "procura(n,N,c)"
   ]
  }
 ],
 "metadata": {
  "kernelspec": {
   "display_name": "Python 3",
   "language": "python",
   "name": "python3"
  },
  "language_info": {
   "codemirror_mode": {
    "name": "ipython",
    "version": 3
   },
   "file_extension": ".py",
   "mimetype": "text/x-python",
   "name": "python",
   "nbconvert_exporter": "python",
   "pygments_lexer": "ipython3",
   "version": "3.6.13"
  }
 },
 "nbformat": 4,
 "nbformat_minor": 2
}
