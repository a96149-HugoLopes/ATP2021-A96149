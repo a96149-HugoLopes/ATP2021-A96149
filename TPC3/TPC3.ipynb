{
 "cells": [
  {
   "cell_type": "markdown",
   "metadata": {},
   "source": [
    "# TPC 3"
   ]
  },
  {
   "cell_type": "markdown",
   "metadata": {},
   "source": [
    "## Bubble Sort"
   ]
  },
  {
   "cell_type": "markdown",
   "metadata": {},
   "source": [
    "__Autor:__ Hugo Miguel Moreira Lopes (A96149) | __Supervisor:__ José Caros Leite Ramalho (https://www.di.uminho.pt/~jcr/the-juris.php) | __Data de ínicio:__ 2021/10/18 | __Data de fim:__ 2021/10/20 | __UC:__ Algoritmos e Técinicas de Programação | __Curso:__ ENGBiom"
   ]
  },
  {
   "cell_type": "markdown",
   "metadata": {},
   "source": [
    "## Resumo"
   ]
  },
  {
   "cell_type": "markdown",
   "metadata": {},
   "source": [
    "O objetivo do algoritmo é ordenar uma lista, por ordem crescente, através de trocas diretas comparando 2 elementos sucessivos. Para que o programa não faça trocas infinitamente, criei um ciclo \"while\" que recebe uma variável \"Trocas\" que tem o valor True e que passa a False dentro do while e volta a ser True quando ocorre uma troca. Deste modo, quando a lista fica organizada a variável Trocas torna-se False sempre e por isso o ciclo termina."
   ]
  },
  {
   "cell_type": "markdown",
   "metadata": {},
   "source": [
    "## Algoritmo"
   ]
  },
  {
   "cell_type": "code",
   "execution_count": 1,
   "metadata": {},
   "outputs": [
    {
     "name": "stdout",
     "output_type": "stream",
     "text": [
      "Nº de elementos da lista: 5\n",
      "Elemento da lista: 7\n",
      "Elemento da lista: 4\n",
      "Elemento da lista: 6\n",
      "Elemento da lista: 9\n",
      "Elemento da lista: 2\n",
      "[2, 4, 6, 7, 9]\n"
     ]
    }
   ],
   "source": [
    "lista=[]\n",
    "n=int(input(\"Nº de elementos da lista: \"))\n",
    "for i in range (n):\n",
    "    x=int(input(\"Elemento da lista: \"))\n",
    "    lista.append(x)\n",
    "\n",
    "def BubbleSort(lista):\n",
    "    \n",
    "    trocas=True\n",
    "    \n",
    "    while(trocas):\n",
    "        trocas=False\n",
    "        \n",
    "        for j in range (len(lista)-1):\n",
    "            \n",
    "            if lista[j]>lista[j+1]:\n",
    "                \n",
    "                lista[j], lista[j+1]=lista[j+1],lista[j]\n",
    "                \n",
    "                trocas=True\n",
    "    \n",
    "    return lista\n",
    "\n",
    "\n",
    "print(BubbleSort(lista))"
   ]
  }
 ],
 "metadata": {
  "kernelspec": {
   "display_name": "Python 3",
   "language": "python",
   "name": "python3"
  },
  "language_info": {
   "codemirror_mode": {
    "name": "ipython",
    "version": 3
   },
   "file_extension": ".py",
   "mimetype": "text/x-python",
   "name": "python",
   "nbconvert_exporter": "python",
   "pygments_lexer": "ipython3",
   "version": "3.6.13"
  }
 },
 "nbformat": 4,
 "nbformat_minor": 2
}
